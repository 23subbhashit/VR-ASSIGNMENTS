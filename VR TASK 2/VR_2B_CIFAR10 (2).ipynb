{
  "cells": [
    {
      "cell_type": "code",
      "execution_count": 1,
      "metadata": {
        "colab": {
          "base_uri": "https://localhost:8080/"
        },
        "id": "5Dq13Xo7AzJa",
        "outputId": "8ba10cb9-be2f-4bb0-932a-4b06ede9a228"
      },
      "outputs": [
        {
          "output_type": "stream",
          "name": "stdout",
          "text": [
            "Drive already mounted at /content/drive; to attempt to forcibly remount, call drive.mount(\"/content/drive\", force_remount=True).\n"
          ]
        }
      ],
      "source": [
        "# Mount Google Drive to access data\n",
        "from google.colab import drive\n",
        "drive.mount('/content/drive')"
      ]
    },
    {
      "cell_type": "code",
      "execution_count": 2,
      "metadata": {
        "id": "yQwpdHlfA06q"
      },
      "outputs": [],
      "source": [
        "import pickle\n",
        "import cv2\n",
        "import numpy as np\n",
        "from matplotlib import pyplot as plt\n",
        "from sklearn.cluster import KMeans\n",
        "from sklearn import svm"
      ]
    },
    {
      "cell_type": "code",
      "execution_count": 32,
      "metadata": {
        "colab": {
          "base_uri": "https://localhost:8080/",
          "height": 35
        },
        "id": "J4ut8C3rBFRG",
        "outputId": "651aaf13-324f-4534-bb17-dd42f4a00d05"
      },
      "outputs": [
        {
          "output_type": "execute_result",
          "data": {
            "text/plain": [
              "'trainImgPerBatch = 50\\ntestImgPerBatch = 50'"
            ],
            "application/vnd.google.colaboratory.intrinsic+json": {
              "type": "string"
            }
          },
          "metadata": {},
          "execution_count": 32
        }
      ],
      "source": [
        "# Initialization params\n",
        "\n",
        "nClusters = 800\n",
        "svm_c = 0.01\n",
        "svm_gamma = 0.01\n",
        "svm_kernal = 'rbf'\n",
        "\n",
        "datasetPath = '/content/drive/MyDrive/cifar10/cifar-10-batches-py'\n",
        "vocabFile = 'vocab_800.sav'\n",
        "clsFile = 'cls.sav'\n",
        "trainBatch = 1\n",
        "'''trainImgPerBatch = 50\n",
        "testImgPerBatch = 50'''"
      ]
    },
    {
      "cell_type": "code",
      "execution_count": 4,
      "metadata": {
        "id": "WyDyoMX9B02J"
      },
      "outputs": [],
      "source": [
        "# For returning the corresponding label\n",
        "\n",
        "def getLabel(id):\n",
        "    txtLabels = ['airplane', 'automobile', 'bird', 'cat', 'deer', 'dog', 'frog', 'horse', 'ship', 'truck']\n",
        "    return txtLabels[id]"
      ]
    },
    {
      "cell_type": "code",
      "execution_count": 5,
      "metadata": {
        "id": "kIHE2JZiB1mE"
      },
      "outputs": [],
      "source": [
        "# Load Batch data\n",
        "\n",
        "def loadBatch(filePath):\n",
        "    with open(filePath, 'rb') as fo:\n",
        "        batchDict = pickle.load(fo, encoding='latin1')\n",
        "        nImgs = len(batchDict['data'])\n",
        "        imgs = batchDict['data'].reshape(nImgs,3,32,32).transpose(0, 2, 3, 1)\n",
        "        labels = batchDict['labels']\n",
        "    return (imgs,labels)"
      ]
    },
    {
      "cell_type": "code",
      "execution_count": 6,
      "metadata": {
        "id": "9-zvtURTB3uf"
      },
      "outputs": [],
      "source": [
        "# Get Descriptors from here\n",
        "\n",
        "def getDescriptors(img, extractor):\n",
        "    gray = cv2.cvtColor(img,cv2.COLOR_RGB2GRAY)\n",
        "    keypoints, descriptors = extractor.detectAndCompute(gray, None)\n",
        "    return descriptors"
      ]
    },
    {
      "cell_type": "code",
      "execution_count": 7,
      "metadata": {
        "id": "7fmbYLN4B7ZP"
      },
      "outputs": [],
      "source": [
        "# Get descriptors for Batch Data\n",
        "def getBatchDesc(imgs):\n",
        "    descriptors = np.asarray([])\n",
        "    extractor = cv2.xfeatures2d.SIFT_create()\n",
        "    #i = 0\n",
        "    for img in imgs:\n",
        "        desc = getDescriptors(img,extractor)\n",
        "        if type(desc) == np.ndarray :\n",
        "            if descriptors.shape[0] == 0:\n",
        "                descriptors = desc\n",
        "            else:\n",
        "                descriptors = np.concatenate((descriptors, desc), axis=0)\n",
        "    return descriptors"
      ]
    },
    {
      "cell_type": "code",
      "execution_count": 8,
      "metadata": {
        "id": "caB9uz8nCA2c"
      },
      "outputs": [],
      "source": [
        "# Get descriptors for dataset\n",
        "def getDatasetDesc():\n",
        "    descriptors = np.asarray([])\n",
        "    for batchId in range(1,trainBatch+1):\n",
        "        batchPath = datasetPath+'/'+'data_batch_'+str(batchId)\n",
        "        imgs,labels = loadBatch(batchPath)\n",
        "        if descriptors.shape[0] == 0:\n",
        "            descriptors = getBatchDesc(imgs)\n",
        "        else:\n",
        "            descriptors = np.concatenate((descriptors, getBatchDesc(imgs)), axis=0)\n",
        "    return descriptors"
      ]
    },
    {
      "cell_type": "code",
      "execution_count": 9,
      "metadata": {
        "id": "7I2K5jo9CDWl"
      },
      "outputs": [],
      "source": [
        "# Get Visual Vocabularies\n",
        "def getVocabularies():\n",
        "    descriptors = getDatasetDesc()\n",
        "    kmeans = KMeans(n_clusters = nClusters)\n",
        "    kmeans.fit(descriptors)\n",
        "    return kmeans"
      ]
    },
    {
      "cell_type": "code",
      "execution_count": 10,
      "metadata": {
        "id": "JnrTsr-kCGX5"
      },
      "outputs": [],
      "source": [
        "# Function to get bag of keypoints for a single image\n",
        "def getBagOfKP(img,extractor,vocab):\n",
        "    bok = [0]*nClusters\n",
        "    gray = cv2.cvtColor(img,cv2.COLOR_RGB2GRAY)\n",
        "    keypoints, descriptors = extractor.detectAndCompute(gray, None)\n",
        "    if type(descriptors) == np.ndarray:\n",
        "        pred = vocab.predict(descriptors)\n",
        "        for ele in pred:\n",
        "            bok[ele] = bok[ele] + 1\n",
        "    return bok"
      ]
    },
    {
      "cell_type": "code",
      "execution_count": 11,
      "metadata": {
        "id": "gf0Gor70CKMt"
      },
      "outputs": [],
      "source": [
        "# Function to get bag of keypoints for a batch of images\n",
        "def getBatchBOK(imgs,vocab):\n",
        "    batchBOK = []\n",
        "    extractor = cv2.xfeatures2d.SIFT_create()\n",
        "    for img in imgs:\n",
        "        bok = getBagOfKP(img,extractor,vocab)\n",
        "        batchBOK.append(bok)\n",
        "    return  np.asarray(batchBOK)"
      ]
    },
    {
      "cell_type": "code",
      "execution_count": 12,
      "metadata": {
        "id": "fcx_t1NRCL82"
      },
      "outputs": [],
      "source": [
        "# Get train features and labels\n",
        "def getTrainingDT(vocab):\n",
        "    dataset = np.asarray([])\n",
        "    labels = []\n",
        "    for batchId in range(1,trainBatch+1):\n",
        "        print('collecting batch ',str(batchId),' features ...')\n",
        "        batchPath = datasetPath+'/'+'data_batch_'+str(batchId)\n",
        "        imgs,labs = loadBatch(batchPath)\n",
        "        if dataset.shape[0] == 0:\n",
        "            dataset = getBatchBOK(imgs,vocab)\n",
        "            labels = labs\n",
        "        else:\n",
        "            dataset = np.concatenate((dataset, getBatchBOK(imgs,vocab)), axis=0)\n",
        "            labels.extend(labs)\n",
        "    return (dataset,np.asarray(labels))"
      ]
    },
    {
      "cell_type": "code",
      "execution_count": 13,
      "metadata": {
        "id": "Rc78aE_oCOSb"
      },
      "outputs": [],
      "source": [
        "# Get test features and labels\n",
        "def getTestingDT(vocab):\n",
        "    batchPath = datasetPath+'/test_batch'\n",
        "    imgs,labels = loadBatch(batchPath)\n",
        "    dataset = getBatchBOK(imgs,vocab)\n",
        "    return (dataset,np.asarray(labels))"
      ]
    },
    {
      "cell_type": "code",
      "execution_count": 14,
      "metadata": {
        "colab": {
          "base_uri": "https://localhost:8080/"
        },
        "id": "S8RODvDYCRoj",
        "outputId": "3b20bf5b-9347-4fad-934e-bf9d20f3bad2"
      },
      "outputs": [
        {
          "output_type": "stream",
          "name": "stderr",
          "text": [
            "/usr/local/lib/python3.10/dist-packages/sklearn/cluster/_kmeans.py:870: FutureWarning: The default value of `n_init` will change from 10 to 'auto' in 1.4. Set the value of `n_init` explicitly to suppress the warning\n",
            "  warnings.warn(\n"
          ]
        }
      ],
      "source": [
        "vocab = getVocabularies()\n",
        "pickle.dump(vocab, open(vocabFile, 'wb'))"
      ]
    },
    {
      "cell_type": "code",
      "execution_count": 15,
      "metadata": {
        "colab": {
          "base_uri": "https://localhost:8080/"
        },
        "id": "a0fAyfzDCnTH",
        "outputId": "c0e6f4b3-f672-4b24-8a94-82ce85d5d8f3"
      },
      "outputs": [
        {
          "output_type": "stream",
          "name": "stdout",
          "text": [
            "collecting batch  1  features ...\n"
          ]
        }
      ],
      "source": [
        "# Getting Train data and labels\n",
        "dataset,labels = getTrainingDT(vocab)"
      ]
    },
    {
      "cell_type": "code",
      "source": [
        "model = svm.SVC(kernel=svm_kernal)\n",
        "print(\"training started...\")\n",
        "model.fit(dataset,labels)\n",
        "pickle.dump(model, open(clsFile, 'wb'))"
      ],
      "metadata": {
        "id": "OvbP8WsaSp5G",
        "colab": {
          "base_uri": "https://localhost:8080/"
        },
        "outputId": "24f86e69-5eb8-49bb-fb51-c4fd2c45a735"
      },
      "execution_count": 33,
      "outputs": [
        {
          "output_type": "stream",
          "name": "stdout",
          "text": [
            "training started...\n"
          ]
        }
      ]
    },
    {
      "cell_type": "code",
      "execution_count": 34,
      "metadata": {
        "id": "PshxCspxCrQX"
      },
      "outputs": [],
      "source": [
        "# Getting Test data and labels\n",
        "testDt,testLb = getTestingDT(vocab)"
      ]
    },
    {
      "cell_type": "code",
      "execution_count": 35,
      "metadata": {
        "id": "39SarT5NC2I6"
      },
      "outputs": [],
      "source": [
        "acc = model.score(testDt,testLb)"
      ]
    },
    {
      "cell_type": "code",
      "execution_count": 36,
      "metadata": {
        "colab": {
          "base_uri": "https://localhost:8080/"
        },
        "id": "2QqeSBf3C4AS",
        "outputId": "9bd29d16-341b-43d7-ab31-2f97401a60bb"
      },
      "outputs": [
        {
          "output_type": "stream",
          "name": "stdout",
          "text": [
            "Accuracy for SVM model\n",
            "0.2767\n"
          ]
        }
      ],
      "source": [
        "print(\"Accuracy for SVM model\")\n",
        "print(acc)"
      ]
    },
    {
      "cell_type": "code",
      "source": [
        "from sklearn.neighbors import KNeighborsClassifier\n",
        "from sklearn.linear_model import LogisticRegression"
      ],
      "metadata": {
        "id": "k-icIwTRgEor"
      },
      "execution_count": 37,
      "outputs": []
    },
    {
      "cell_type": "code",
      "source": [
        "# Using KNN and Logistic Regression\n",
        "\n",
        "knn = KNeighborsClassifier(n_neighbors=5)\n",
        "knn.fit(dataset,labels)\n",
        "accuracy_knn = knn.score(testDt,testLb)\n",
        "print(\"Accuracy for KNN model\")\n",
        "print(accuracy_knn)\n",
        "log_reg = LogisticRegression(max_iter=1000)\n",
        "log_reg.fit(dataset,labels)\n",
        "accuracy_log_reg = log_reg.score(testDt,testLb)\n",
        "print(\"Accuracy for Logistic Regression model\")\n",
        "print(accuracy_log_reg)"
      ],
      "metadata": {
        "colab": {
          "base_uri": "https://localhost:8080/"
        },
        "id": "VSPj9W1XgG2u",
        "outputId": "8ffd3366-4dfe-44ef-dbf5-b67caa5b101e"
      },
      "execution_count": 38,
      "outputs": [
        {
          "output_type": "stream",
          "name": "stdout",
          "text": [
            "Accuracy for KNN model\n",
            "0.1195\n",
            "Accuracy for Logistic Regression model\n",
            "0.2502\n"
          ]
        }
      ]
    },
    {
      "cell_type": "code",
      "source": [
        "from sklearn.metrics import confusion_matrix, classification_report\n",
        "# Predictions\n",
        "predictions = model.predict(testDt)\n",
        "\n",
        "# Confusion matrix\n",
        "conf_matrix = confusion_matrix(testLb, predictions)\n",
        "\n",
        "# Classification report\n",
        "class_report = classification_report(testLb, predictions)"
      ],
      "metadata": {
        "id": "RkhPRFciutrs"
      },
      "execution_count": 39,
      "outputs": []
    },
    {
      "cell_type": "code",
      "source": [
        "import seaborn as sns\n",
        "print(\"Classification Report:\")\n",
        "print(class_report)\n",
        "plt.figure(figsize=(8, 6))\n",
        "sns.heatmap(conf_matrix, annot=True, cmap='Blues', fmt='g')\n",
        "plt.xlabel('Predicted labels')\n",
        "plt.ylabel('True labels')\n",
        "plt.title('Confusion Matrix')\n",
        "plt.show()"
      ],
      "metadata": {
        "colab": {
          "base_uri": "https://localhost:8080/",
          "height": 876
        },
        "id": "T46BOcyZzZzL",
        "outputId": "4d279338-eef0-4479-d9a8-c23094d239f9"
      },
      "execution_count": 40,
      "outputs": [
        {
          "output_type": "stream",
          "name": "stdout",
          "text": [
            "Classification Report:\n",
            "              precision    recall  f1-score   support\n",
            "\n",
            "           0       0.37      0.36      0.37      1000\n",
            "           1       0.38      0.33      0.35      1000\n",
            "           2       0.22      0.25      0.24      1000\n",
            "           3       0.19      0.18      0.19      1000\n",
            "           4       0.19      0.15      0.17      1000\n",
            "           5       0.24      0.24      0.24      1000\n",
            "           6       0.24      0.22      0.23      1000\n",
            "           7       0.30      0.32      0.31      1000\n",
            "           8       0.33      0.39      0.36      1000\n",
            "           9       0.29      0.33      0.31      1000\n",
            "\n",
            "    accuracy                           0.28     10000\n",
            "   macro avg       0.27      0.28      0.27     10000\n",
            "weighted avg       0.27      0.28      0.27     10000\n",
            "\n"
          ]
        },
        {
          "output_type": "display_data",
          "data": {
            "text/plain": [
              "<Figure size 800x600 with 2 Axes>"
            ],
            "image/png": "[encoded data removed]"
          },
          "metadata": {}
        }
      ]
    }
  ],
  "metadata": {
    "colab": {
      "provenance": []
    },
    "kernelspec": {
      "display_name": "Python 3",
      "name": "python3"
    },
    "language_info": {
      "name": "python"
    }
  },
  "nbformat": 4,
  "nbformat_minor": 0
}