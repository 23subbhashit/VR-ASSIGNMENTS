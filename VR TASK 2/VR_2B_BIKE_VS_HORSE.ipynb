{
  "nbformat": 4,
  "nbformat_minor": 0,
  "metadata": {
    "colab": {
      "provenance": []
    },
    "kernelspec": {
      "name": "python3",
      "display_name": "Python 3"
    },
    "language_info": {
      "name": "python"
    }
  },
  "cells": [
    {
      "cell_type": "code",
      "source": [
        "print(\"Loading necessary libraries...\")\n",
        "import warnings\n",
        "\n",
        "# Ignore warnings\n",
        "warnings.filterwarnings(\"ignore\")\n",
        "import numpy as np\n",
        "from sklearn.cluster import KMeans\n",
        "from sklearn.svm import SVC\n",
        "from sklearn.metrics import accuracy_score, classification_report, confusion_matrix\n",
        "from sklearn.model_selection import train_test_split\n",
        "import os\n",
        "import cv2\n",
        "\n",
        "print(\"Defining functions...\")\n",
        "\n",
        "# Function to extract features from images using SIFT or SURF\n",
        "def extract_features(image_paths, method):\n",
        "    descriptors = []\n",
        "    for path in image_paths:\n",
        "        image = cv2.imread(path)\n",
        "        gray = cv2.cvtColor(image, cv2.COLOR_BGR2GRAY)\n",
        "        if method == 'SIFT':\n",
        "            feature_extractor = cv2.SIFT_create()\n",
        "        elif method == 'SURF':\n",
        "            feature_extractor = cv2.xfeatures2d.SURF_create()\n",
        "        else:\n",
        "            raise ValueError(\"Invalid feature extraction method. Choose either 'SIFT' or 'SURF'.\")\n",
        "        kp, des = feature_extractor.detectAndCompute(gray, None)\n",
        "        if des is not None:\n",
        "            descriptors.extend(des)\n",
        "    return np.array(descriptors)\n",
        "\n",
        "# Function to get image paths\n",
        "def get_image_paths(directory):\n",
        "    image_paths = []\n",
        "    for filename in os.listdir(directory):\n",
        "        if filename.endswith(\".jpg\") or filename.endswith(\".jpeg\") or filename.endswith(\".png\"):\n",
        "            image_paths.append(os.path.join(directory, filename))\n",
        "    return image_paths\n",
        "\n",
        "# Function to perform KMeans clustering\n",
        "def perform_kmeans(features, num_clusters):\n",
        "    kmeans = KMeans(n_clusters=num_clusters)\n",
        "    kmeans.fit(features)\n",
        "    return kmeans"
      ],
      "metadata": {
        "colab": {
          "base_uri": "https://localhost:8080/"
        },
        "id": "vIOkAm76wQ9o",
        "outputId": "d510a2e1-1a52-4fe0-f74f-46eb0a05ed03"
      },
      "execution_count": 4,
      "outputs": [
        {
          "output_type": "stream",
          "name": "stdout",
          "text": [
            "Loading necessary libraries...\n",
            "Defining functions...\n"
          ]
        }
      ]
    },
    {
      "cell_type": "code",
      "source": [
        "print(\"Loading image paths...\")\n",
        "# Paths to bike and horse images\n",
        "bike_directory = \"/content/Bike-vs-Horse-classification/Dataset/Bikes\"\n",
        "horse_directory = \"/content/Bike-vs-Horse-classification/Dataset/Horses\"\n",
        "\n",
        "# Extract paths to images\n",
        "bike_paths = get_image_paths(bike_directory)\n",
        "horse_paths = get_image_paths(horse_directory)\n",
        "\n",
        "method = input(\"Enter feature extraction method (SIFT or SURF): \")"
      ],
      "metadata": {
        "colab": {
          "base_uri": "https://localhost:8080/"
        },
        "id": "8qbLNR0N1LH9",
        "outputId": "2dee1e13-84eb-4b33-a2a6-5bab606c2c24"
      },
      "execution_count": 5,
      "outputs": [
        {
          "name": "stdout",
          "output_type": "stream",
          "text": [
            "Loading image paths...\n",
            "Enter feature extraction method (SIFT or SURF): SIFT\n"
          ]
        }
      ]
    },
    {
      "cell_type": "code",
      "source": [
        "print(f\"Extracting features using {method}...\")\n",
        "# Extract features\n",
        "if method == 'SIFT':\n",
        "    bike_features = extract_features(bike_paths, method='SIFT')\n",
        "    horse_features = extract_features(horse_paths, method='SIFT')\n",
        "elif method == 'SURF':\n",
        "    bike_features = extract_features(bike_paths, method='SURF')\n",
        "    horse_features = extract_features(horse_paths, method='SURF')\n",
        "else:\n",
        "    raise ValueError(\"Invalid feature extraction method. Choose either 'SIFT' or 'SURF'.\")\n",
        "\n",
        "print(\"Combining features...\")\n",
        "# Combine features\n",
        "all_features = np.vstack((bike_features, horse_features))"
      ],
      "metadata": {
        "colab": {
          "base_uri": "https://localhost:8080/"
        },
        "id": "wc0k50gU1JPY",
        "outputId": "ecb27d23-bb68-4f07-aa62-5282777ece9b"
      },
      "execution_count": 6,
      "outputs": [
        {
          "output_type": "stream",
          "name": "stdout",
          "text": [
            "Extracting features using SIFT...\n",
            "Combining features...\n"
          ]
        }
      ]
    },
    {
      "cell_type": "code",
      "source": [
        "print(\"Constructing image representations...\")\n",
        "# Construct image representations\n",
        "num_clusters = int(input(\"Enter the number of clusters: \"))\n",
        "kmeans = perform_kmeans(all_features, num_clusters)"
      ],
      "metadata": {
        "colab": {
          "base_uri": "https://localhost:8080/"
        },
        "id": "AyVd-Fu61FE0",
        "outputId": "30d77e67-7565-452f-edf0-b154f160e2c2"
      },
      "execution_count": 7,
      "outputs": [
        {
          "name": "stdout",
          "output_type": "stream",
          "text": [
            "Constructing image representations...\n",
            "Enter the number of clusters: 100\n"
          ]
        }
      ]
    },
    {
      "cell_type": "code",
      "source": [
        "X_train = []\n",
        "y_train = []\n",
        "for paths, label in [(bike_paths, 0), (horse_paths, 1)]:\n",
        "    for path in paths:\n",
        "        image = cv2.imread(path)\n",
        "        gray = cv2.cvtColor(image, cv2.COLOR_BGR2GRAY)\n",
        "        if method == 'SIFT':\n",
        "            kp, des = cv2.SIFT_create().detectAndCompute(gray, None)\n",
        "        elif method == 'SURF':\n",
        "            kp, des = cv2.xfeatures2d.SURF_create().detectAndCompute(gray, None)\n",
        "        else:\n",
        "            raise ValueError(\"Invalid feature extraction method. Choose either 'SIFT' or 'SURF'.\")\n",
        "        if des is not None:\n",
        "            hist = np.zeros(num_clusters)\n",
        "            labels = kmeans.predict(des)\n",
        "            for l in labels:\n",
        "                hist[l] += 1\n",
        "            X_train.append(hist)\n",
        "            y_train.append(label)\n",
        "X_train = np.array(X_train)\n",
        "y_train = np.array(y_train)\n",
        "\n",
        "print(\"KMeans clustering completed.\")"
      ],
      "metadata": {
        "colab": {
          "base_uri": "https://localhost:8080/"
        },
        "id": "iEHxmUqN1CUM",
        "outputId": "49b3b59b-6f44-46b1-d904-10fb35e4db9c"
      },
      "execution_count": 8,
      "outputs": [
        {
          "output_type": "stream",
          "name": "stdout",
          "text": [
            "KMeans clustering completed.\n"
          ]
        }
      ]
    },
    {
      "cell_type": "code",
      "source": [
        "print(\"Splitting data into train and test sets...\")\n",
        "# Split data into train and test sets\n",
        "X_train, X_test, y_train, y_test = train_test_split(X_train, y_train, test_size=0.2, random_state=42)"
      ],
      "metadata": {
        "colab": {
          "base_uri": "https://localhost:8080/"
        },
        "id": "lxLFf4qA01pH",
        "outputId": "10175c97-3ca0-4e4f-c9b0-f43c467a192e"
      },
      "execution_count": 9,
      "outputs": [
        {
          "output_type": "stream",
          "name": "stdout",
          "text": [
            "Splitting data into train and test sets...\n"
          ]
        }
      ]
    },
    {
      "cell_type": "code",
      "source": [
        "print(\"Training SVM classifier...\")\n",
        "# Train SVM classifier\n",
        "svm = SVC(kernel='rbf')\n",
        "svm.fit(X_train, y_train)\n",
        "\n",
        "print(\"Evaluating classifier...\")\n",
        "# Evaluate classifier\n",
        "y_pred = svm.predict(X_test)\n",
        "accuracy = accuracy_score(y_test, y_pred)\n",
        "print(\"Accuracy:\", accuracy)"
      ],
      "metadata": {
        "colab": {
          "base_uri": "https://localhost:8080/"
        },
        "id": "wOxLXo8o0-VB",
        "outputId": "354d12b7-3149-4616-f88b-e30bca3a8894"
      },
      "execution_count": 10,
      "outputs": [
        {
          "output_type": "stream",
          "name": "stdout",
          "text": [
            "Training SVM classifier...\n",
            "Evaluating classifier...\n",
            "Accuracy: 0.9444444444444444\n"
          ]
        }
      ]
    },
    {
      "cell_type": "code",
      "source": [
        "import seaborn as sns\n",
        "import matplotlib.pyplot as plt\n",
        "\n",
        "# Classification report\n",
        "print(\"Printing classification report...\")\n",
        "print(classification_report(y_test, y_pred))\n",
        "\n",
        "# Confusion matrix\n",
        "print(\"Printing confusion matrix...\")\n",
        "conf_matrix = confusion_matrix(y_test, y_pred)\n",
        "\n",
        "# Plot confusion matrix using seaborn\n",
        "plt.figure(figsize=(8, 6))\n",
        "sns.heatmap(conf_matrix, annot=True, fmt=\"d\", cmap=\"Blues\", cbar=False)\n",
        "plt.xlabel(\"Predicted labels\")\n",
        "plt.ylabel(\"True labels\")\n",
        "plt.title(\"Confusion Matrix\")\n",
        "plt.show()\n"
      ],
      "metadata": {
        "colab": {
          "base_uri": "https://localhost:8080/",
          "height": 755
        },
        "id": "4J3lX00sxFxv",
        "outputId": "1e10cd0a-25b5-4a97-a74a-18eb8de5cd04"
      },
      "execution_count": 11,
      "outputs": [
        {
          "output_type": "stream",
          "name": "stdout",
          "text": [
            "Printing classification report...\n",
            "              precision    recall  f1-score   support\n",
            "\n",
            "           0       1.00      0.88      0.94        17\n",
            "           1       0.90      1.00      0.95        19\n",
            "\n",
            "    accuracy                           0.94        36\n",
            "   macro avg       0.95      0.94      0.94        36\n",
            "weighted avg       0.95      0.94      0.94        36\n",
            "\n",
            "Printing confusion matrix...\n"
          ]
        },
        {
          "output_type": "display_data",
          "data": {
            "text/plain": [
              "<Figure size 800x600 with 1 Axes>"
            ],
            "image/png": "[encoded data removed]"
          },
          "metadata": {}
        }
      ]
    },
    {
      "cell_type": "code",
      "source": [
        "from sklearn.neighbors import KNeighborsClassifier\n",
        "from sklearn.linear_model import LogisticRegression"
      ],
      "metadata": {
        "id": "d-_J_Det2aBt"
      },
      "execution_count": 12,
      "outputs": []
    },
    {
      "cell_type": "code",
      "source": [
        "print(\"Training KNN classifier...\")\n",
        "# Train KNN classifier\n",
        "knn = KNeighborsClassifier(n_neighbors=5)\n",
        "knn.fit(X_train, y_train)\n",
        "\n",
        "print(\"Evaluating KNN classifier...\")\n",
        "# Evaluate KNN classifier\n",
        "y_pred_knn = knn.predict(X_test)\n",
        "accuracy_knn = accuracy_score(y_test, y_pred_knn)\n",
        "print(\"KNN Accuracy:\", accuracy_knn)\n",
        "\n",
        "print(\"Training Logistic Regression classifier...\")\n",
        "# Train Logistic Regression classifier\n",
        "log_reg = LogisticRegression(max_iter=1000)\n",
        "log_reg.fit(X_train, y_train)\n",
        "\n",
        "print(\"Evaluating Logistic Regression classifier...\")\n",
        "# Evaluate Logistic Regression classifier\n",
        "y_pred_log_reg = log_reg.predict(X_test)\n",
        "accuracy_log_reg = accuracy_score(y_test, y_pred_log_reg)\n",
        "print(\"Logistic Regression Accuracy:\", accuracy_log_reg)\n"
      ],
      "metadata": {
        "colab": {
          "base_uri": "https://localhost:8080/"
        },
        "id": "PV4xX5AA1_KA",
        "outputId": "a929911b-3ad2-4d5b-c25a-229742fc134c"
      },
      "execution_count": 13,
      "outputs": [
        {
          "output_type": "stream",
          "name": "stdout",
          "text": [
            "Training KNN classifier...\n",
            "Evaluating KNN classifier...\n",
            "KNN Accuracy: 0.9166666666666666\n",
            "Training Logistic Regression classifier...\n",
            "Evaluating Logistic Regression classifier...\n",
            "Logistic Regression Accuracy: 0.9444444444444444\n"
          ]
        }
      ]
    }
  ]
}